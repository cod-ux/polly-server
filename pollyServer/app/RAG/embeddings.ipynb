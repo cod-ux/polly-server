{
 "cells": [
  {
   "cell_type": "code",
   "execution_count": 13,
   "metadata": {},
   "outputs": [],
   "source": [
    "import toml\n",
    "import os\n",
    "from openai import OpenAI\n",
    "import asyncio\n",
    "from docx import Document\n",
    "import docx2txt2 as docx2txt\n",
    "\n",
    "from langchain_community.document_loaders import PyPDFLoader\n",
    "from langchain_chroma import Chroma\n",
    "from langchain_openai import OpenAIEmbeddings\n",
    "from langchain_text_splitters import RecursiveCharacterTextSplitter\n",
    "\n",
    "BASE_DIR = os.path.join(os.path.dirname(\n",
    "    os.path.abspath('')\n",
    "), \"RAG\")  # path of the current folder that holds this file\n",
    "\n",
    "secrets_path = os.path.join(BASE_DIR, \"..\", \"config\", \"secrets.toml\")\n",
    "folder_path = os.path.join(BASE_DIR, \"docs\")\n",
    "\n",
    "API_KEY = toml.load(secrets_path)[\"OPENAI_API_KEY\"]\n",
    "\n",
    "embedding_model = \"text-embedding-3-large\"\n",
    "embeddings = OpenAIEmbeddings(model=embedding_model, api_key=API_KEY)\n",
    "\n",
    "client = OpenAI(api_key=API_KEY)\n",
    "pages = []"
   ]
  },
  {
   "cell_type": "code",
   "execution_count": 20,
   "metadata": {},
   "outputs": [
    {
     "name": "stdout",
     "output_type": "stream",
     "text": [
      "Name of pdf:  What-powers-where-achieving-the-devolution-revolution.pdf\n",
      "Name of pdf:  Making-the-grade.pdf\n"
     ]
    },
    {
     "name": "stderr",
     "output_type": "stream",
     "text": [
      "Ignoring wrong pointing object 6 0 (offset 0)\n",
      "Ignoring wrong pointing object 11 0 (offset 0)\n",
      "Ignoring wrong pointing object 13 0 (offset 0)\n",
      "Ignoring wrong pointing object 33 0 (offset 0)\n",
      "Ignoring wrong pointing object 43 0 (offset 0)\n",
      "Ignoring wrong pointing object 45 0 (offset 0)\n",
      "Ignoring wrong pointing object 52 0 (offset 0)\n",
      "Ignoring wrong pointing object 60 0 (offset 0)\n"
     ]
    },
    {
     "name": "stdout",
     "output_type": "stream",
     "text": [
      "Name of pdf:  The-power-of-prevention-3.pdf\n",
      "Name of pdf:  Mission-control_Embargoed1.pdf\n",
      "Name of pdf:  Devolve-by-default-Decentralisation-and-a-redefined-Whitehall.pdf\n",
      "Name of pdf:  Close-enough-to-care.pdf\n",
      "Name of pdf:  Getting-the-machine-learning.pdf\n",
      "No. of source pages:  960\n"
     ]
    }
   ],
   "source": [
    "\n",
    "def load_pdfs():\n",
    "    for pdf_path in os.listdir(folder_path):\n",
    "        if pdf_path[-4:] == \".pdf\":\n",
    "            print(\"Name of pdf: \", pdf_path)\n",
    "            loader = PyPDFLoader(os.path.join(BASE_DIR, \"docs\", pdf_path))\n",
    "\n",
    "            for page in loader.lazy_load():\n",
    "                pages.append(page)\n",
    "\n",
    "        else:\n",
    "            pass\n",
    "\n",
    "    print(\"No. of source pages: \", len(pages))\n",
    "\n",
    "\n",
    "load_pdfs()\n"
   ]
  },
  {
   "cell_type": "code",
   "execution_count": 27,
   "metadata": {},
   "outputs": [
    {
     "data": {
      "text/plain": [
       "{'source': '/Users/suryaganesan/Documents/GitHub/polly-server/pollyServer/app/RAG/docs/What-powers-where-achieving-the-devolution-revolution.pdf',\n",
       " 'page': 0}"
      ]
     },
     "execution_count": 27,
     "metadata": {},
     "output_type": "execute_result"
    }
   ],
   "source": [
    "page = pages[0]\n",
    "page.metadata"
   ]
  },
  {
   "cell_type": "code",
   "execution_count": 28,
   "metadata": {},
   "outputs": [],
   "source": [
    "# Create source for text\n",
    "source_docs = []\n",
    "\n",
    "for page in pages:\n",
    "    page_content = page.page_content\n",
    "    meta_data = page.metadata\n",
    "    book_name = os.path.basename(meta_data[\"source\"])\n",
    "\n",
    "    new_content = \"Source name: \" + book_name + \"\\n\\n\" + page_content\n",
    "\n",
    "    page.page_content = new_content\n",
    "\n",
    "    source_docs.append(page)\n"
   ]
  },
  {
   "cell_type": "code",
   "execution_count": 69,
   "metadata": {},
   "outputs": [],
   "source": [
    "# Create source for images\n",
    "import fitz\n",
    "import base64\n",
    "from langchain.docstore.document import Document\n",
    "\n",
    "# pdf_file_path = \"/Users/suryaganesan/Documents/GitHub/polly-server/pollyServer/app/RAG/docs/Close-enough-to-care.pdf\"\n",
    "# pdf_file = fitz.open(pdf_file_path)\n",
    "pdf_imgs = [] # source, page_index, image_list\n",
    "\n",
    "file_paths = os.listdir(folder_path)\n",
    "for file_name in file_paths:\n",
    "  if file_name.endswith('.pdf'):\n",
    "    pdf_file_path = os.path.join(folder_path, file_name)\n",
    "    pdf_file = fitz.open(pdf_file_path)\n",
    "    for page_index in range(pdf_file.page_count):\n",
    "      page = pdf_file.load_page(page_index)\n",
    "      page_image_list = page.get_images(full=True)\n",
    "\n",
    "      if page_image_list:\n",
    "        bs64_img_list = []\n",
    "        for image_index, img in enumerate(page_image_list):\n",
    "          xref = img[0]\n",
    "\n",
    "          base_image = pdf_file.extract_image(xref)\n",
    "          img_bytes = base_image[\"image\"]\n",
    "          img_ext = base_image[\"ext\"]\n",
    "\n",
    "          bs64_img = base64.b64encode(img_bytes).decode('utf-8')\n",
    "          bs64_img_list.append(bs64_img)\n",
    "        \n",
    "        pdf_imgs.append({\"source\": os.path.basename(pdf_file_path), \"page\": page_index, \"image_list\": bs64_img_list})\n"
   ]
  },
  {
   "cell_type": "code",
   "execution_count": 71,
   "metadata": {},
   "outputs": [
    {
     "data": {
      "text/plain": [
       "{'source': 'Getting-the-machine-learning.pdf',\n",
       " 'page': 63,\n",
       " 'image_list': ['iVBORw0KGgoAAAANSUhEUgAAAYMAAAAhCAYAAAA7x8dDAAAACXBIWXMAAA7EAAAOxAGVKw4bAAAAlUlEQVR4nO3OIQEAMAwEsfdvepNxoAHh2bYHwHl5AIBeHgCglwcA6OUBAHp5AIBeHgCglwcA6OUBAHp5AIBeHgCglwcA6OUBAHp5AIBeHgCglwcA6OUBAHp5AIBeHgCglwcA6OUBAHp5AIBeHgCglwcA6OUBAHp5AIBeHgCglwcA6OUBAHp5AIBeHgCglwcA6OUBAGIfGXSz/SmKwaIAAAAASUVORK5CYII=',\n",
       "  'iVBORw0KGgoAAAANSUhEUgAAAVkAAAA3CAYAAACmezlFAAAACXBIWXMAAA7EAAAOxAGVKw4bAAAA6klEQVR4nO3OsQnAQBAEseu/abuKZ2FQoFx3dx8Az8wDAGXzAEDZPABQNg8AlM0DAGXzAEDZPABQNg8AlM0DAGXzAEDZPABQNg8AlM0DAGXzAEDZPABQNg8AlM0DAGXzAEDZPABQNg8AlM0DAGXzAEDZPABQNg8AlM0DAGXzAEDZPABQNg8AlM0DAGXzAEDZPABQNg8AlM0DAGXzAEDZPABQNg8AlM0DAGXzAEDZPABQNg8AlM0DAGXzAEDZPABQNg8AlM0DAGXzAEDZPABQNg8AlM0DAGXzAEDZPABQNg8AlM0DAGXzAEDWD0512Sk2emksAAAAAElFTkSuQmCC',\n",
       "  'iVBORw0KGgoAAAANSUhEUgAAAVkAAAApCAYAAACfp1quAAAACXBIWXMAAA7EAAAOxAGVKw4bAAAAtUlEQVR4nO3OsQnAQBAEseu/abuKZ2FQoFx3dx8Az8wDAGXzAEDZPABQNg8AlM0DAGXzAEDZPABQNg8AlM0DAGXzAEDZPABQNg8AlM0DAGXzAEDZPABQNg8AlM0DAGXzAEDZPABQNg8AlM0DAGXzAEDZPABQNg8AlM0DAGXzAEDZPABQNg8AlM0DAGXzAEDZPABQNg8AlM0DAGXzAEDZPABQNg8AlM0DAGXzAEDZPABQNg8AZP1Nmgz5GBzmjAAAAABJRU5ErkJggg==']}"
      ]
     },
     "execution_count": 71,
     "metadata": {},
     "output_type": "execute_result"
    }
   ],
   "source": [
    "pdf_imgs[-1]\n",
    "# doc = Document(page_content=\"\", meta_data={\"source\": \"pdf1\"})"
   ]
  },
  {
   "cell_type": "code",
   "execution_count": null,
   "metadata": {},
   "outputs": [],
   "source": [
    "\n",
    "# Create a Vectorstore\n",
    "chroma_db = Chroma.from_documents(\n",
    "    documents=source_docs,\n",
    "    embedding=embeddings,\n",
    "    persist_directory=os.path.join(BASE_DIR, \"chroma_db\"),\n",
    "    collection_name=\"polly-rag\",\n",
    ")\n"
   ]
  }
 ],
 "metadata": {
  "kernelspec": {
   "display_name": ".venv",
   "language": "python",
   "name": "python3"
  },
  "language_info": {
   "codemirror_mode": {
    "name": "ipython",
    "version": 3
   },
   "file_extension": ".py",
   "mimetype": "text/x-python",
   "name": "python",
   "nbconvert_exporter": "python",
   "pygments_lexer": "ipython3",
   "version": "3.12.7"
  }
 },
 "nbformat": 4,
 "nbformat_minor": 2
}
